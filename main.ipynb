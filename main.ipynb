{
 "cells": [
  {
   "cell_type": "code",
   "id": "initial_id",
   "metadata": {
    "collapsed": true,
    "ExecuteTime": {
     "end_time": "2025-03-20T10:41:08.926640Z",
     "start_time": "2025-03-20T10:41:08.923525Z"
    }
   },
   "source": [
    "import esm\n",
    "import torch"
   ],
   "outputs": [],
   "execution_count": 7
  },
  {
   "metadata": {
    "ExecuteTime": {
     "end_time": "2025-03-20T11:07:41.306057Z",
     "start_time": "2025-03-20T11:07:41.274655Z"
    }
   },
   "cell_type": "code",
   "source": [
    "# Load ESM-2 model\n",
    "batch_converter = alphabet.get_batch_converter()\n",
    "model.eval()  # disables dropout for deterministic results"
   ],
   "id": "665c20292562e84",
   "outputs": [
    {
     "data": {
      "text/plain": [
       "ESM2(\n",
       "  (embed_tokens): Embedding(33, 1280, padding_idx=1)\n",
       "  (layers): ModuleList(\n",
       "    (0-32): 33 x TransformerLayer(\n",
       "      (self_attn): MultiheadAttention(\n",
       "        (k_proj): Linear(in_features=1280, out_features=1280, bias=True)\n",
       "        (v_proj): Linear(in_features=1280, out_features=1280, bias=True)\n",
       "        (q_proj): Linear(in_features=1280, out_features=1280, bias=True)\n",
       "        (out_proj): Linear(in_features=1280, out_features=1280, bias=True)\n",
       "        (rot_emb): RotaryEmbedding()\n",
       "      )\n",
       "      (self_attn_layer_norm): LayerNorm((1280,), eps=1e-05, elementwise_affine=True)\n",
       "      (fc1): Linear(in_features=1280, out_features=5120, bias=True)\n",
       "      (fc2): Linear(in_features=5120, out_features=1280, bias=True)\n",
       "      (final_layer_norm): LayerNorm((1280,), eps=1e-05, elementwise_affine=True)\n",
       "    )\n",
       "  )\n",
       "  (contact_head): ContactPredictionHead(\n",
       "    (regression): Linear(in_features=660, out_features=1, bias=True)\n",
       "    (activation): Sigmoid()\n",
       "  )\n",
       "  (emb_layer_norm_after): LayerNorm((1280,), eps=1e-05, elementwise_affine=True)\n",
       "  (lm_head): RobertaLMHead(\n",
       "    (dense): Linear(in_features=1280, out_features=1280, bias=True)\n",
       "    (layer_norm): LayerNorm((1280,), eps=1e-05, elementwise_affine=True)\n",
       "  )\n",
       ")"
      ]
     },
     "execution_count": 42,
     "metadata": {},
     "output_type": "execute_result"
    }
   ],
   "execution_count": 42
  },
  {
   "metadata": {
    "ExecuteTime": {
     "end_time": "2025-03-20T11:07:45.163603Z",
     "start_time": "2025-03-20T11:07:45.144762Z"
    }
   },
   "cell_type": "code",
   "source": [
    "# Prepare data (first 2 sequences from ESMStructuralSplitDataset superfamily / 4)\n",
    "data = [\n",
    "    (\"protein1\", \"BKTVRQERLKSIVRILERSKEPVSGAQLAEELSVSRQVIVQDIAYLRSLGYNIVATPRGYVLAGG\"),\n",
    "    (\"protein2\", \"KALTARQQEVFDLIRDHISQTGMPPTRAEIAQRLGFRSPNAAEEHLKALARKGVIEIVSGASRGIRLLQEE\"),\n",
    "    (\"protein2 with mask\",\"KALTARQQEVFDLIRD<mask>ISQTGMPPTRAEIAQRLGFRSPNAAEEHLKALARKGVIEIVSGASRGIRLLQEE\"),\n",
    "    (\"protein3\",  \"K A <mask> I S Q\"),\n",
    "    (\"protein4\", \"ACDEFGHIKLMNPQRSTVWY<unk>\"),\n",
    "]\n",
    "batch_labels, batch_strs, batch_tokens = batch_converter(data)\n",
    "batch_lens = (batch_tokens != alphabet.padding_idx).sum(1)"
   ],
   "id": "2285f6af87151eab",
   "outputs": [],
   "execution_count": 43
  },
  {
   "metadata": {
    "ExecuteTime": {
     "end_time": "2025-03-20T11:07:47.671084Z",
     "start_time": "2025-03-20T11:07:47.665423Z"
    }
   },
   "cell_type": "code",
   "source": [
    "print(f\"batch_labels:{batch_labels}\")\n",
    "print(f\"batch_strs:{batch_strs}\")\n",
    "print(f\"batch_tokens:{batch_tokens}\")\n",
    "print(f\"batch_lens:{batch_lens}\")"
   ],
   "id": "dc34ea16f41068de",
   "outputs": [
    {
     "name": "stdout",
     "output_type": "stream",
     "text": [
      "batch_labels:['protein1', 'protein2', 'protein2 with mask', 'protein3', 'protein4']\n",
      "batch_strs:['BKTVRQERLKSIVRILERSKEPVSGAQLAEELSVSRQVIVQDIAYLRSLGYNIVATPRGYVLAGG', 'KALTARQQEVFDLIRDHISQTGMPPTRAEIAQRLGFRSPNAAEEHLKALARKGVIEIVSGASRGIRLLQEE', 'KALTARQQEVFDLIRD<mask>ISQTGMPPTRAEIAQRLGFRSPNAAEEHLKALARKGVIEIVSGASRGIRLLQEE', 'K A <mask> I S Q', 'ACDEFGHIKLMNPQRSTVWY<unk>']\n",
      "batch_tokens:tensor([[ 0, 25, 15, 11,  7, 10, 16,  9, 10,  4, 15,  8, 12,  7, 10, 12,  4,  9,\n",
      "         10,  8, 15,  9, 14,  7,  8,  6,  5, 16,  4,  5,  9,  9,  4,  8,  7,  8,\n",
      "         10, 16,  7, 12,  7, 16, 13, 12,  5, 19,  4, 10,  8,  4,  6, 19, 17, 12,\n",
      "          7,  5, 11, 14, 10,  6, 19,  7,  4,  5,  6,  6,  2,  1,  1,  1,  1,  1,\n",
      "          1],\n",
      "        [ 0, 15,  5,  4, 11,  5, 10, 16, 16,  9,  7, 18, 13,  4, 12, 10, 13, 21,\n",
      "         12,  8, 16, 11,  6, 20, 14, 14, 11, 10,  5,  9, 12,  5, 16, 10,  4,  6,\n",
      "         18, 10,  8, 14, 17,  5,  5,  9,  9, 21,  4, 15,  5,  4,  5, 10, 15,  6,\n",
      "          7, 12,  9, 12,  7,  8,  6,  5,  8, 10,  6, 12, 10,  4,  4, 16,  9,  9,\n",
      "          2],\n",
      "        [ 0, 15,  5,  4, 11,  5, 10, 16, 16,  9,  7, 18, 13,  4, 12, 10, 13, 32,\n",
      "         12,  8, 16, 11,  6, 20, 14, 14, 11, 10,  5,  9, 12,  5, 16, 10,  4,  6,\n",
      "         18, 10,  8, 14, 17,  5,  5,  9,  9, 21,  4, 15,  5,  4,  5, 10, 15,  6,\n",
      "          7, 12,  9, 12,  7,  8,  6,  5,  8, 10,  6, 12, 10,  4,  4, 16,  9,  9,\n",
      "          2],\n",
      "        [ 0, 15,  5, 32, 12,  8, 16,  2,  1,  1,  1,  1,  1,  1,  1,  1,  1,  1,\n",
      "          1,  1,  1,  1,  1,  1,  1,  1,  1,  1,  1,  1,  1,  1,  1,  1,  1,  1,\n",
      "          1,  1,  1,  1,  1,  1,  1,  1,  1,  1,  1,  1,  1,  1,  1,  1,  1,  1,\n",
      "          1,  1,  1,  1,  1,  1,  1,  1,  1,  1,  1,  1,  1,  1,  1,  1,  1,  1,\n",
      "          1],\n",
      "        [ 0,  5, 23, 13,  9, 18,  6, 21, 12, 15,  4, 20, 17, 14, 16, 10,  8, 11,\n",
      "          7, 22, 19,  3,  2,  1,  1,  1,  1,  1,  1,  1,  1,  1,  1,  1,  1,  1,\n",
      "          1,  1,  1,  1,  1,  1,  1,  1,  1,  1,  1,  1,  1,  1,  1,  1,  1,  1,\n",
      "          1,  1,  1,  1,  1,  1,  1,  1,  1,  1,  1,  1,  1,  1,  1,  1,  1,  1,\n",
      "          1]])\n",
      "batch_lens:tensor([67, 73, 73,  8, 23])\n"
     ]
    }
   ],
   "execution_count": 44
  },
  {
   "metadata": {
    "ExecuteTime": {
     "end_time": "2025-03-20T11:08:19.865457Z",
     "start_time": "2025-03-20T11:08:19.471910Z"
    }
   },
   "cell_type": "code",
   "source": [
    "# Extract per-residue representations (on CPU)\n",
    "with torch.no_grad():\n",
    "    results = model(batch_tokens.to(torch.device('cuda')), repr_layers=[33], return_contacts=True)\n",
    "token_representations = results[\"representations\"][33]"
   ],
   "id": "a08b1ad1e98d4a7a",
   "outputs": [],
   "execution_count": 46
  },
  {
   "metadata": {
    "ExecuteTime": {
     "end_time": "2025-03-20T11:08:21.712143Z",
     "start_time": "2025-03-20T11:08:21.707381Z"
    }
   },
   "cell_type": "code",
   "source": [
    "# Generate per-sequence representations via averaging\n",
    "# NOTE: token 0 is always a beginning-of-sequence token, so the first residue is token 1.\n",
    "sequence_representations = []\n",
    "for i, tokens_len in enumerate(batch_lens):\n",
    "    sequence_representations.append(token_representations[i, 1 : tokens_len - 1].mean(0))"
   ],
   "id": "bd090ee6db3e59ce",
   "outputs": [],
   "execution_count": 47
  },
  {
   "metadata": {
    "ExecuteTime": {
     "end_time": "2025-03-20T11:08:24.936946Z",
     "start_time": "2025-03-20T11:08:24.726483Z"
    }
   },
   "cell_type": "code",
   "source": [
    "# Look at the unsupervised self-attention map contact predictions\n",
    "import matplotlib.pyplot as plt\n",
    "for (_, seq), tokens_len, attention_contacts in zip(data, batch_lens, results[\"contacts\"]):\n",
    "    plt.matshow(attention_contacts[: tokens_len, : tokens_len])\n",
    "    plt.title(seq)\n",
    "    plt.show()"
   ],
   "id": "348d3777bc51df22",
   "outputs": [
    {
     "ename": "TypeError",
     "evalue": "can't convert cuda:0 device type tensor to numpy. Use Tensor.cpu() to copy the tensor to host memory first.",
     "output_type": "error",
     "traceback": [
      "\u001B[1;31m---------------------------------------------------------------------------\u001B[0m",
      "\u001B[1;31mTypeError\u001B[0m                                 Traceback (most recent call last)",
      "Cell \u001B[1;32mIn[48], line 4\u001B[0m\n\u001B[0;32m      2\u001B[0m \u001B[38;5;28;01mimport\u001B[39;00m \u001B[38;5;21;01mmatplotlib\u001B[39;00m\u001B[38;5;21;01m.\u001B[39;00m\u001B[38;5;21;01mpyplot\u001B[39;00m \u001B[38;5;28;01mas\u001B[39;00m \u001B[38;5;21;01mplt\u001B[39;00m\n\u001B[0;32m      3\u001B[0m \u001B[38;5;28;01mfor\u001B[39;00m (_, seq), tokens_len, attention_contacts \u001B[38;5;129;01min\u001B[39;00m \u001B[38;5;28mzip\u001B[39m(data, batch_lens, results[\u001B[38;5;124m\"\u001B[39m\u001B[38;5;124mcontacts\u001B[39m\u001B[38;5;124m\"\u001B[39m]):\n\u001B[1;32m----> 4\u001B[0m     \u001B[43mplt\u001B[49m\u001B[38;5;241;43m.\u001B[39;49m\u001B[43mmatshow\u001B[49m\u001B[43m(\u001B[49m\u001B[43mattention_contacts\u001B[49m\u001B[43m[\u001B[49m\u001B[43m:\u001B[49m\u001B[43m \u001B[49m\u001B[43mtokens_len\u001B[49m\u001B[43m,\u001B[49m\u001B[43m \u001B[49m\u001B[43m:\u001B[49m\u001B[43m \u001B[49m\u001B[43mtokens_len\u001B[49m\u001B[43m]\u001B[49m\u001B[43m)\u001B[49m\n\u001B[0;32m      5\u001B[0m     plt\u001B[38;5;241m.\u001B[39mtitle(seq)\n\u001B[0;32m      6\u001B[0m     plt\u001B[38;5;241m.\u001B[39mshow()\n",
      "File \u001B[1;32mD:\\program\\anaconda\\envs\\pytorch_cuda\\Lib\\site-packages\\matplotlib\\pyplot.py:2667\u001B[0m, in \u001B[0;36mmatshow\u001B[1;34m(A, fignum, **kwargs)\u001B[0m\n\u001B[0;32m   2623\u001B[0m \u001B[38;5;28;01mdef\u001B[39;00m \u001B[38;5;21mmatshow\u001B[39m(A: ArrayLike, fignum: \u001B[38;5;28;01mNone\u001B[39;00m \u001B[38;5;241m|\u001B[39m \u001B[38;5;28mint\u001B[39m \u001B[38;5;241m=\u001B[39m \u001B[38;5;28;01mNone\u001B[39;00m, \u001B[38;5;241m*\u001B[39m\u001B[38;5;241m*\u001B[39mkwargs) \u001B[38;5;241m-\u001B[39m\u001B[38;5;241m>\u001B[39m AxesImage:\n\u001B[0;32m   2624\u001B[0m \u001B[38;5;250m    \u001B[39m\u001B[38;5;124;03m\"\"\"\u001B[39;00m\n\u001B[0;32m   2625\u001B[0m \u001B[38;5;124;03m    Display a 2D array as a matrix in a new figure window.\u001B[39;00m\n\u001B[0;32m   2626\u001B[0m \n\u001B[1;32m   (...)\u001B[0m\n\u001B[0;32m   2665\u001B[0m \n\u001B[0;32m   2666\u001B[0m \u001B[38;5;124;03m    \"\"\"\u001B[39;00m\n\u001B[1;32m-> 2667\u001B[0m     A \u001B[38;5;241m=\u001B[39m \u001B[43mnp\u001B[49m\u001B[38;5;241;43m.\u001B[39;49m\u001B[43masanyarray\u001B[49m\u001B[43m(\u001B[49m\u001B[43mA\u001B[49m\u001B[43m)\u001B[49m\n\u001B[0;32m   2668\u001B[0m     \u001B[38;5;28;01mif\u001B[39;00m fignum \u001B[38;5;241m==\u001B[39m \u001B[38;5;241m0\u001B[39m:\n\u001B[0;32m   2669\u001B[0m         ax \u001B[38;5;241m=\u001B[39m gca()\n",
      "File \u001B[1;32mD:\\program\\anaconda\\envs\\pytorch_cuda\\Lib\\site-packages\\torch\\_tensor.py:1194\u001B[0m, in \u001B[0;36mTensor.__array__\u001B[1;34m(self, dtype)\u001B[0m\n\u001B[0;32m   1192\u001B[0m     \u001B[38;5;28;01mreturn\u001B[39;00m handle_torch_function(Tensor\u001B[38;5;241m.\u001B[39m__array__, (\u001B[38;5;28mself\u001B[39m,), \u001B[38;5;28mself\u001B[39m, dtype\u001B[38;5;241m=\u001B[39mdtype)\n\u001B[0;32m   1193\u001B[0m \u001B[38;5;28;01mif\u001B[39;00m dtype \u001B[38;5;129;01mis\u001B[39;00m \u001B[38;5;28;01mNone\u001B[39;00m:\n\u001B[1;32m-> 1194\u001B[0m     \u001B[38;5;28;01mreturn\u001B[39;00m \u001B[38;5;28;43mself\u001B[39;49m\u001B[38;5;241;43m.\u001B[39;49m\u001B[43mnumpy\u001B[49m\u001B[43m(\u001B[49m\u001B[43m)\u001B[49m\n\u001B[0;32m   1195\u001B[0m \u001B[38;5;28;01melse\u001B[39;00m:\n\u001B[0;32m   1196\u001B[0m     \u001B[38;5;28;01mreturn\u001B[39;00m \u001B[38;5;28mself\u001B[39m\u001B[38;5;241m.\u001B[39mnumpy()\u001B[38;5;241m.\u001B[39mastype(dtype, copy\u001B[38;5;241m=\u001B[39m\u001B[38;5;28;01mFalse\u001B[39;00m)\n",
      "\u001B[1;31mTypeError\u001B[0m: can't convert cuda:0 device type tensor to numpy. Use Tensor.cpu() to copy the tensor to host memory first."
     ]
    }
   ],
   "execution_count": 48
  },
  {
   "metadata": {
    "ExecuteTime": {
     "end_time": "2025-03-20T10:41:23.069439Z",
     "start_time": "2025-03-20T10:41:18.988624Z"
    }
   },
   "cell_type": "code",
   "source": [
    "from deeprpi.utils import RPIDataset\n",
    "from deeprpi.model import embedding"
   ],
   "id": "97404c5433b375a7",
   "outputs": [],
   "execution_count": 8
  },
  {
   "metadata": {
    "ExecuteTime": {
     "end_time": "2025-03-20T10:41:26.226873Z",
     "start_time": "2025-03-20T10:41:26.187749Z"
    }
   },
   "cell_type": "code",
   "source": [
    "RPIDataset = RPIDataset(data_path='./data/NPInter5.csv',\n",
    "                            batch_size=32,\n",
    "                            num_workers=4,\n",
    "                            rna_col='RNA_aa_code',\n",
    "                            protein_col='target_aa_code',\n",
    "                            label_col='Y',\n",
    "                            padding=True,\n",
    "                            rna_max_length=1000,\n",
    "                            protein_max_length=1000,\n",
    "                            truncation=False,\n",
    "                            val_ratio=0.1,\n",
    "                            test_ratio=0.1)"
   ],
   "id": "a7af392be0717c28",
   "outputs": [],
   "execution_count": 9
  },
  {
   "metadata": {
    "ExecuteTime": {
     "end_time": "2025-03-20T10:41:29.403334Z",
     "start_time": "2025-03-20T10:41:29.283244Z"
    }
   },
   "cell_type": "code",
   "source": [
    "RPIDataset.setup()\n",
    "train_dataloader = RPIDataset.train_dataloader()"
   ],
   "id": "2014c24bc01f07bb",
   "outputs": [
    {
     "name": "stderr",
     "output_type": "stream",
     "text": [
      "Shuffling RNA sequences: 100%|██████████| 1182/1182 [00:00<?, ?it/s]\n",
      "Shuffling protein sequences: 100%|██████████| 1182/1182 [00:00<00:00, 1202733.46it/s]\n",
      "Shuffling labels: 100%|██████████| 1182/1182 [00:00<?, ?it/s]\n",
      "Selecting data: 100%|██████████| 1182/1182 [00:00<?, ?it/s]\n"
     ]
    },
    {
     "name": "stdout",
     "output_type": "stream",
     "text": [
      "Selected 313 samples from 1182 samples\n"
     ]
    },
    {
     "name": "stderr",
     "output_type": "stream",
     "text": [
      "Tokenizing RNA sequences: 100%|██████████| 313/313 [00:00<00:00, 19171.37it/s]\n",
      "Padding RNA sequences: 100%|██████████| 313/313 [00:00<00:00, 313246.76it/s]\n",
      "Tokenizing protein sequences: 100%|██████████| 313/313 [00:00<00:00, 34403.87it/s]\n",
      "Padding protein sequences: 100%|██████████| 313/313 [00:00<00:00, 121861.80it/s]\n"
     ]
    }
   ],
   "execution_count": 10
  },
  {
   "metadata": {
    "ExecuteTime": {
     "end_time": "2025-03-20T10:41:42.573914Z",
     "start_time": "2025-03-20T10:41:39.879859Z"
    }
   },
   "cell_type": "code",
   "source": [
    "for i in train_dataloader:\n",
    "    print(len(i))\n",
    "    print('='*50)\n",
    "    print(i[0])\n",
    "    print('='*50)\n",
    "    print(i[1])\n",
    "    break"
   ],
   "id": "2998e0d6150e5c1d",
   "outputs": [
    {
     "name": "stdout",
     "output_type": "stream",
     "text": [
      "5\n",
      "==================================================\n",
      "tensor([[0, 4, 4,  ..., 1, 1, 1],\n",
      "        [0, 5, 5,  ..., 1, 1, 1],\n",
      "        [0, 5, 7,  ..., 1, 1, 1],\n",
      "        ...,\n",
      "        [0, 4, 6,  ..., 1, 1, 1],\n",
      "        [0, 7, 7,  ..., 1, 1, 1],\n",
      "        [0, 4, 4,  ..., 1, 1, 1]])\n",
      "==================================================\n",
      "tensor([[1, 1, 1,  ..., 1, 1, 1],\n",
      "        [1, 1, 1,  ..., 1, 1, 1],\n",
      "        [1, 1, 1,  ..., 1, 1, 1],\n",
      "        ...,\n",
      "        [1, 1, 1,  ..., 1, 1, 1],\n",
      "        [1, 1, 1,  ..., 1, 1, 1],\n",
      "        [1, 1, 1,  ..., 1, 1, 1]])\n"
     ]
    }
   ],
   "execution_count": 11
  },
  {
   "metadata": {
    "ExecuteTime": {
     "end_time": "2025-03-20T11:12:58.900024Z",
     "start_time": "2025-03-20T11:12:46.419236Z"
    }
   },
   "cell_type": "code",
   "source": [
    "for i in train_dataloader:\n",
    "    print(RPIDataset.protein_tokenizer.decode(i[2]))\n",
    "    print(embedding(RPIDataset.protein_tokenizer.decode(i[2][:2]))[1])\n",
    "    break"
   ],
   "id": "628732b91dc90a10",
   "outputs": [
    {
     "name": "stdout",
     "output_type": "stream",
     "text": [
      "['MSNGYEDHMAEDCRDDIGRTNLIVNYLPQNMTQEELRSLFSSIGEVESAKLIRDKVAGHSLGYGFVNYVTAKDAERAISTLNGLRLQSKTIKVSYARPSSEVIKDANLYISGLPRTMTQKDVEDMFSRFGRIINSRVLVDQTTGLSRGVAFIRFDKRSEAEEAITSFNGHKPPGSSEPITVKFAANPNQNKNMALLSQLYHSPARRFGGPVHHQAQRFRFSPMGVDHMSGISGVNVPGNASSGWCIFIYNLGQDADEGILWQMFGPFGAVTNVKVIRDFNTNKCKGFGFVTMTNYEEAAMAIASLNGYRLGDKILQVSFKTNKSHK', 'MTILFLTMVISYFGCMKAAPMKEANIRGQGGLAYPGVRTHGTLESVNGPKAGSRGLTSLADTFEHVIEELLDEDQKVRPNEENNKDADLYTSRVMLSSQVPLEPPLLFLLEEYKNYLDAANMSMRVRRHSDPARRGELSVCDSISEWVTAADKKTAVDMSGGTVTVLEKVPVSKGQLKQYFYETKCNPMGYTKEGCRGIDKRHWNSQCRTTQSYVRALTMDSKKRIGWRFIRIDTSCVCTLTIKRGR', 'LPNNTSSSP', 'MALTDGGWCLPKRFGAAGADASDSRAFPAREPSTPPSPISSSSSSCSRGGERGPGGASNCGTPQLDTEAAAGPPARSLLLSSYASHPFGAPHGPSAPGVAGPGGNLSSWEDLLLFTDLDQAATASKLLWSSRGAKLSPFAPEQPEEMYQTLAALSSQGPAAYDGAPGGFVHSAAAAAAAAAAASSPVYVPTTRVGSMLPGLPYHLQGSGSGPANHAGGAGAHPGWPQASADSPPYGSGGGAAGGGAAGPGGAGSAAAHVSARFPYSPSPPMANGAAREPGGYAAAGSGGAGGVSGGGSSLAAMGGREPQYSSLSAARPLNGTYHHHHHHHHHHPSPYSPYVGAPLTPAWPAGPFETPVLHSLQSRAGAPLPVPRGPSADLLEDLSESRECVNCGSIQTPLWRRDGTGHYLCNACGLYSKMNGLSRPLIKPQKRVPSSRRLGLSCANCHTTTTTLWRRNAEGEPVCNACGLYMKLHGVPRPLAMKKEGIQTRKRKPKNINKSKTCSGNSNNSIPMTPTSTSSNSDDCSKNTSPTTQPTASGAGAPVMTGAGESTNPENSELKYSGQDGLYIGVSLASPAEVTSSVRPDSWCALALA', 'MSNGYEDHMAEDCRDDIGRTNLIVNYLPQNMTQEELRSLFSSIGEVESAKLIRDKVAGHSLGYGFVNYVTAKDAERAISTLNGLRLQSKTIKVSYARPSSEVIKDANLYISGLPRTMTQKDVEDMFSRFGRIINSRVLVDQTTGLSRGVAFIRFDKRSEAEEAITSFNGHKPPGSSEPITVKFAANPNQNKNMALLSQLYHSPARRFGGPVHHQAQRFRFSPMGVDHMSGISGVNVPGNASSGWCIFIYNLGQDADEGILWQMFGPFGAVTNVKVIRDFNTNKCKGFGFVTMTNYEEAAMAIASLNGYRLGDKILQVSFKTNKSHK', 'MSNGYEDHMAEDCRDDIGRTNLIVNYLPQNMTQEELRSLFSSIGEVESAKLIRDKVAGHSLGYGFVNYVTAKDAERAISTLNGLRLQSKTIKVSYARPSSEVIKDANLYISGLPRTMTQKDVEDMFSRFGRIINSRVLVDQTTGLSRGVAFIRFDKRSEAEEAITSFNGHKPPGSSEPITVKFAANPNQNKNMALLSQLYHSPARRFGGPVHHQAQRFRFSPMGVDHMSGISGVNVPGNASSGWCIFIYNLGQDADEGILWQMFGPFGAVTNVKVIRDFNTNKCKGFGFVTMTNYEEAAMAIASLNGYRLGDKILQVSFKTNKSHK', 'MGQTGKKSEKGPVCWRKRVKSEYMRLRQLKRFRRADEVKSMFSSNRQKILERTEILNQEWKQRRIQPVHILTSVSSLRGTRECSVTSDLDFPTQVIPLKTLNAVASVPIMYSWSPLQQNFMVEDETVLHNIPYMGDEVLDQDGTFIEELIKNYDGKVHGDRECGFINDEIFVELVNALGQYNDDDDDDDGDDPEEREEKQKDLEDHRDDKESRPPRKFPSDKIFEAISSMFPDKGTAEELKEKYKELTEQQLPGALPPECTPNIDGPNAKSVQREQSLHSFHTLFCRRCFKYDCFLHRKCNYSFHATPNTYKRKNTETALDNKPCGPQCYQHLEGAKEFAAALTAERIKTPPKRPGGRRRGRLPNNSSRPSTPTINVLESKDTDSDREAGTETGGENNDKEEEEKKDETSSSSEANSRCQTPIKMKPNIEPPENVEWSGAEASMFRVLIGTYYDNFCAIARLIGTKTCRQVYEFRVKESSIIAPAPAEDVDTPPRKKKRKHRLWAAHCRKIQLKKDGSSNHVYNYQPCDHPRQPCDSSCPCVIAQNFCEKFCQCSSECQNRFPGCRCKAQCNTKQCPCYLAVRECDPDLCLTCGAADHWDSKNVSCKNCSIQRGSKKHLLLAPSDVAGWGIFIKDPVQKNEFISEYCGEIISQDEADRRGKVYDKYMCSFLFNLNNDFVVDATRKGNKIRFANHSVNPNCYAKVMMVNGDHRIGIFAKRAIQTGEELFFDYRYSQADALKYVGIEREMEIP', 'MSNGYEDHMAEDCRDDIGRTNLIVNYLPQNMTQEELRSLFSSIGEVESAKLIRDKVAGHSLGYGFVNYVTAKDAERAISTLNGLRLQSKTIKVSYARPSSEVIKDANLYISGLPRTMTQKDVEDMFSRFGRIINSRVLVDQTTGLSRGVAFIRFDKRSEAEEAITSFNGHKPPGSSEPITVKFAANPNQNKNMALLSQLYHSPARRFGGPVHHQAQRFRFSPMGVDHMSGISGVNVPGNASSGWCIFIYNLGQDADEGILWQMFGPFGAVTNVKVIRDFNTNKCKGFGFVTMTNYEEAAMAIASLNGYRLGDKILQVSFKTNKSHK', 'MGEPATLGCSVCCKSSWNQLQDLCRLAKLSCPALGVSKKNLYDFEVEYLCDYKKIREQEYYLVKWRGYPDSENTWEPRQNLKCIRVLKQFHKDLERELVRRHRRSKPPRHLDPNLANYLVQKAKQRRALQRWEQELNAKRSHLGRITVENEVDLDGPPRSFVYINEYRVGEGITLNQVAVGCECQDCLLAPTGGCCPGASLHKFAYNDQGQVRLKAGQPIYECNSRCCCGYDCPNRVVQKGIRYDLCIFRTNDGRGWGVRTLEKIRKNSFVMEYVGEIITSEEAERRGQIYDRQGATYLFDLDYVEDVYTVDAAYYGNISHFVNHSCDPNLQVYNVFIDNLDERLPRIAFFATRTIWAGEELTFDYNMQVDPVDMESTRMDSNFGLAGLPGSPKKRVRIECKCGTTACRKYLF', 'MGEPATLGCSVCCKSSWNQLQDLCRLAKLSCPALGVSKKNLYDFEVEYLCDYKKIREQEYYLVKWRGYPDSENTWEPRQNLKCIRVLKQFHKDLERELVRRHRRSKPPRHLDPNLANYLVQKAKQRRALQRWEQELNAKRSHLGRITVENEVDLDGPPRSFVYINEYRVGEGITLNQVAVGCECQDCLLAPTGGCCPGASLHKFAYNDQGQVRLKAGQPIYECNSRCCCGYDCPNRVVQKGIRYDLCIFRTNDGRGWGVRTLEKIRKNSFVMEYVGEIITSEEAERRGQIYDRQGATYLFDLDYVEDVYTVDAAYYGNISHFVNHSCDPNLQVYNVFIDNLDERLPRIAFFATRTIWAGEELTFDYNMQVDPVDMESTRMDSNFGLAGLPGSPKKRVRIECKCGTTACRKYLF', 'MSNGYEDHMAEDCRDDIGRTNLIVNYLPQNMTQEELRSLFSSIGEVESAKLIRDKVAGHSLGYGFVNYVTAKDAERAISTLNGLRLQSKTIKVSYARPSSEVIKDANLYISGLPRTMTQKDVEDMFSRFGRIINSRVLVDQTTGLSRGVAFIRFDKRSEAEEAITSFNGHKPPGSSEPITVKFAANPNQNKNMALLSQLYHSPARRFGGPVHHQAQRFRFSPMGVDHMSGISGVNVPGNASSGWCIFIYNLGQDADEGILWQMFGPFGAVTNVKVIRDFNTNKCKGFGFVTMTNYEEAAMAIASLNGYRLGDKILQVSFKTNKSHK', 'MERPPGLRPGAGGPWEMRERLGTGGFGNVCLYQHRELDLKIAIKSCRLELSTKNRERWCHEIQIMKKLNHANVVKACDVPEELNILIHDVPLLAMEYCSGGDLRKLLNKPENCCGLKESQILSLLSDIGSGIRYLHENKIIHRDLKPENIVLQDVGGKIIHKIIDLGYAKDVDQGSLCTSFVGTLQYLAPELFENKPYTATVDYWSFGTMVFECIAGYRPFLHHLQPFTWHEKIKKKDPKCIFACEEMSGEVRFSSHLPQPNSLCSLVVEPMENWLQLMLNWDPQQRGGPVDLTLKQPRCFVLMDHILNLKIVHILNMTSAKIISFLLPPDESLHSLQSRIERETGINTGSQELLSETGISLDPRKPASQCVLDGVRGCDSYMVYLFDKSKTVYEGPFASRSLSDCVNYIVQDSKIQLPIIQLRKVWAEAVHYVSGLKEDYSRLFQGQRAAMLSLLRYNANLTKMKNTLISASQQLKAKLEFFHKSIQLDLERYSEQMTYGISSEKMLKAWKEMEEKAIHYAEVGVIGYLEDQIMSLHAEIMELQKSPYGRRQGDLMESLEQRAIDLYKQLKHRPSDHSYSDSTEMVKIIVHTVQSQDRVLKELFGHLSKLLGCKQKIIDLLPKVEVALSNIKEADNTVMFMQGKRQKEIWHLLKIACTQSSARSLVGSSLEGAVTPQTSAWLPPTSAEHDHSLSCVVTPQDGETSAQMIEENLNCLGHLSTIIHEANEEQGNSMMNLDWSWLTE', 'MSNGYEDHMAEDCRDDIGRTNLIVNYLPQNMTQEELRSLFSSIGEVESAKLIRDKVAGHSLGYGFVNYVTAKDAERAISTLNGLRLQSKTIKVSYARPSSEVIKDANLYISGLPRTMTQKDVEDMFSRFGRIINSRVLVDQTTGLSRGVAFIRFDKRSEAEEAITSFNGHKPPGSSEPITVKFAANPNQNKNMALLSQLYHSPARRFGGPVHHQAQRFRFSPMGVDHMSGISGVNVPGNASSGWCIFIYNLGQDADEGILWQMFGPFGAVTNVKVIRDFNTNKCKGFGFVTMTNYEEAAMAIASLNGYRLGDKILQVSFKTNKSHK', 'MHDFRRTVKEVISVVKVCESTLRKRLTEFEDTPHRGGRADGGPRASPGLFVGRPQYHS', 'MGKKQNKKKVEEVLEEEEEEYVVEKVLDRRVVKGKVEYLLKWKGFSDEDNTWEPEENLDCPDLIAEFLQSQKTAHETDKSEGGKRKADSDSEDKGEESKPKKKKEESEKPRGFARGLEPERIIGATDSSGELMFLMKWKNSDEADLVPAKEANVKCPQVVISFYEERLTWHSYPSEDDDKKDDKN', 'MPIAQLWNYGKRSRWSLWK', 'MSNGYEDHMAEDCRDDIGRTNLIVNYLPQNMTQEELRSLFSSIGEVESAKLIRDKVAGHSLGYGFVNYVTAKDAERAISTLNGLRLQSKTIKVSYARPSSEVIKDANLYISGLPRTMTQKDVEDMFSRFGRIINSRVLVDQTTGLSRGVAFIRFDKRSEAEEAITSFNGHKPPGSSEPITVKFAANPNQNKNMALLSQLYHSPARRFGGPVHHQAQRFRFSPMGVDHMSGISGVNVPGNASSGWCIFIYNLGQDADEGILWQMFGPFGAVTNVKVIRDFNTNKCKGFGFVTMTNYEEAAMAIASLNGYRLGDKILQVSFKTNKSHK', 'MGSVSNQQFAGGCAKAAEEAPEEAPEDAARAADEPQLLHGAGICKWFNVRMGFGFLSMTARAGVALDPPVDVFVHQSKLHMEGFRSLKEGEAVEFTFKKSAKGLESIRVTGPGGVFCIGSERRPKGKSMQKRRSKGDRCYNCGGLDHHAKECKLPPQPKKCHFCQSISHMVASCPLKAQQGPSAQGKPTYFREEEEEIHSPTLLPEAQN', 'MSNGYEDHMAEDCRDDIGRTNLIVNYLPQNMTQEELRSLFSSIGEVESAKLIRDKVAGHSLGYGFVNYVTAKDAERAISTLNGLRLQSKTIKVSYARPSSEVIKDANLYISGLPRTMTQKDVEDMFSRFGRIINSRVLVDQTTGLSRGVAFIRFDKRSEAEEAITSFNGHKPPGSSEPITVKFAANPNQNKNMALLSQLYHSPARRFGGPVHHQAQRFRFSPMGVDHMSGISGVNVPGNASSGWCIFIYNLGQDADEGILWQMFGPFGAVTNVKVIRDFNTNKCKGFGFVTMTNYEEAAMAIASLNGYRLGDKILQVSFKTNKSHK', 'MSNGYEDHMAEDCRDDIGRTNLIVNYLPQNMTQEELRSLFSSIGEVESAKLIRDKVAGHSLGYGFVNYVTAKDAERAISTLNGLRLQSKTIKVSYARPSSEVIKDANLYISGLPRTMTQKDVEDMFSRFGRIINSRVLVDQTTGLSRGVAFIRFDKRSEAEEAITSFNGHKPPGSSEPITVKFAANPNQNKNMALLSQLYHSPARRFGGPVHHQAQRFRFSPMGVDHMSGISGVNVPGNASSGWCIFIYNLGQDADEGILWQMFGPFGAVTNVKVIRDFNTNKCKGFGFVTMTNYEEAAMAIASLNGYRLGDKILQVSFKTNKSHK', 'LKEPLPSGKKRSTKLESLSDLERALMESKETAAAMATLGEARLREMEALQSLRFANEEKLLSPVQDLEMKVCLCQKTPATPMIQCELCRDAFHTSCVAAPSISQSSRIWLCPHCRRSEKPPLEKILPLLASLQRIRVRLPEGDALRYMIERTVNWQHRAQQLLSSGNLKLVQDQVGSGLLSSRWPASAGQASATDKVSQPPGTTSFSLPDDWDNRTSYLHSPFSTGQSCLPLHGLSPEVNELLMEAQLLQVSLPEIQELYQTLLTKPSSVQQADRSSPVRSSSEKNDCLRGKRDAINSPERKLKRRPEREGLPSERWDRVKHMRTPQKKKIKLSHPKDMDSFKLERERSYDLVRNAETHSLPSDTSYSEQEDSEDEDAICPAVSCLQPEGDEVDWVQCDGSCNQWFHQVCVGVSPEMAEKEDYICVRCTGKDAPSRK', 'MSRRLLPRAEKRRRRLEQRQQPDEQRRRSGAMVKMAAAGGGGGGGRYYGGGSEGGRAPKRLKTDNAGDQHGGGGGGGGGAGAAGGGGGGENYDDPHKTPASPVVHIRGLIDGVVEADLVEALQEFGPISYVVVMPKKRQALVEFEDVLGACNAVNYAADNQIYIAGHPAFVNYSTSQKISRPGDSDDSRSVNSVLLFTILNPIYSITTDVLYTICNPCGPVQRIVIFRKNGVQAMVEFDSVQSAQRAKASLNGADIYSGCCTLKIEYAKPTRLNVFKNDQDTWDYTNPNLSGQGDPGSNPNKRQRQPPLLGDHPAEYGGPHGGYHSHYHDEGYGPPPPHYEGRRMGPPVGGHRRGPSRYGPQYGHPPPPPPPPEYGPHADSPVLMVYGLDQSKMNCDRVFNVFCLYGNVEKVKFMKSKPGAAMVEMADGYAVDRAITHLNNNFMFGQKLNVCVSKQPAIMPGQSYGLEDGSCSYKDFSESRNNRFSTPEQAAKNRIQHPSNVLHFFNAPLEVTEENFFEICDELGVKRPSSVKVFSGKSERSSSGLLEWESKSDALETLGFLNHYQMKNPNGPYPYTLKLCFSTAQHAS', 'MSNGYEDHMAEDCRDDIGRTNLIVNYLPQNMTQEELRSLFSSIGEVESAKLIRDKVAGHSLGYGFVNYVTAKDAERAISTLNGLRLQSKTIKVSYARPSSEVIKDANLYISGLPRTMTQKDVEDMFSRFGRIINSRVLVDQTTGLSRGVAFIRFDKRSEAEEAITSFNGHKPPGSSEPITVKFAANPNQNKNMALLSQLYHSPARRFGGPVHHQAQRFRFSPMGVDHMSGISGVNVPGNASSGWCIFIYNLGQDADEGILWQMFGPFGAVTNVKVIRDFNTNKCKGFGFVTMTNYEEAAMAIASLNGYRLGDKILQVSFKTNKSHK', 'MSQSNRELVVDFLSYKLSQKGYSWSQFSDVEENRTEAPEGTESEMETP', 'MRPMRIFVNDDRHVMAKHSSVYPTQEELEAVQNMVSHTERALKAVSDWIDEQEKGSSEQAESDNMDVPPEDDSKEGAGEQKTEHMTRTLRGVMRVGLVAKGLLLKGDLDLELVLLCKEKPTTALLDKVADNLAIQLAAVTEDKYEILQSVDDAAIVIKNTKEPPLSLTIHLTSPVVREEMEKVLAGETLSVNDPPDVLDRQKCLAALASLRHAKWFQARANGLKSCVIVIRVLRDLCTRVPTWGPLRGWPLELLCEKSIGTANRPMGAGEALRRVLECLASGIVMPDGSGIYDPCEKEATDAIGHLDRQQREDITQSAQHALRLAAFGQLHKVLGMDPLPSKMPKKPKNENPVDYTVQIPPSTTYAITPMKRPMEEDGEEKSPSKKKKKIQKKEEKAEPPQAMNALMRLNQLKPGLQYKLVSQTGPVHAPIFTMSVEVDGNSFEASGPSKKTAKLHVAVKVLQDMGLPTGAEGRDSSKGEDSAEETEAKPAVVAPAPVVEAVSTPSAAFPSDATAEQGPILTKHGKNPVMELNEKRRGLKYELISETGGSHDKRFVMEVEVDGQKFQGAGSNKKVAKAYAALAALEKLFPDTPLALDANKKKRAPVPVRGGPKFAAKPHNPGFGMGGPMHNEVPPPPNLRGRGRGGSIRGRGRGRGFGGANHGGYMNAGAGYGSYGYGGNSATAGYSQFYSNGGHSGNASGGGGGGGGGSSGYGSYYQGDNYNSPVPPKHAGKKQPHGGQQKPSYGSGYQSHQGQQQSYNQSPYSNYGPPQGKQKGYNHGQGSYSYSNSYNSPGGGGGSDYNYESKFNYSGSGGRSGGNSYGSGGASYNPGSHGGYGGGSGGGSSYQGKQGGYSQSNYNSPGSGQNYSGPPSSYQSSQGGYGRNADHSMNYQYR', 'MSNGYEDHMAEDCRDDIGRTNLIVNYLPQNMTQEELRSLFSSIGEVESAKLIRDKVAGHSLGYGFVNYVTAKDAERAISTLNGLRLQSKTIKVSYARPSSEVIKDANLYISGLPRTMTQKDVEDMFSRFGRIINSRVLVDQTTGLSRGVAFIRFDKRSEAEEAITSFNGHKPPGSSEPITVKFAANPNQNKNMALLSQLYHSPARRFGGPVHHQAQRFRFSPMGVDHMSGISGVNVPGNASSGWCIFIYNLGQDADEGILWQMFGPFGAVTNVKVIRDFNTNKCKGFGFVTMTNYEEAAMAIASLNGYRLGDKILQVSFKTNKSHK', 'MDFSRNLYDIGEQLDSEDLASLKFLSLDYIPQRKQEPIKDALMLFQRLQEKRMLEESNLSFLKELLFRINRLDLLITYLNTRKEEMERELQTPGRAQISAYRVMLYQISEEVSRSELRSFKFLLQEEISKCKLDDDMNLLDIFIEMEKRVILGEGKLDILKRVCAQINKSLLKIINDYEEFSKERSSSLEGSPDEFSNGEELCGVMTISDSPREQDSESQTLDKVYQMKSKPRGYCLIINNHNFAKAREKVPKLHSIRDRNGTHLDAGALTTTFEELHFEIKPHDDCTVEQIYEILKIYQLMDHSNMDCFICCILSHGDKGIIYGTDGQEAPIYELTSQFTGLKCPSLAGKPKVFFIQACQGDNYQKGIPVETDSEEQPYLEMDLSSPQTRYIPDEADFLLGMATVNNCVSYRNPAEGTWYIQSLCQSLRERCPRGDDILTILTEVNYEVSNKDDKKNMGKQMPQPTFTLRKKLVFPSD', 'MSNGYEDHMAEDCRDDIGRTNLIVNYLPQNMTQEELRSLFSSIGEVESAKLIRDKVAGHSLGYGFVNYVTAKDAERAISTLNGLRLQSKTIKVSYARPSSEVIKDANLYISGLPRTMTQKDVEDMFSRFGRIINSRVLVDQTTGLSRGVAFIRFDKRSEAEEAITSFNGHKPPGSSEPITVKFAANPNQNKNMALLSQLYHSPARRFGGPVHHQAQRFRFSPMGVDHMSGISGVNVPGNASSGWCIFIYNLGQDADEGILWQMFGPFGAVTNVKVIRDFNTNKCKGFGFVTMTNYEEAAMAIASLNGYRLGDKILQVSFKTNKSHK', 'MATTATMATSGSARKRLLKEEDMTKVEFETSEEVDVTPTFDTMGLREDLLRGIYAYGFEKPSAIQQRAIKQIIKGRDVIAQSQSGTGKTATFSISVLQCLDIQVRETQALILAPTRELAVQIQKGLLALGDYMNVQCHACIGGTNVGEDIRKLDYGQHVVAGTPGRVFDMIRRRSLRTRAIKMLVLDEADEMLNKGFKEQIYDVYRYLPPATQVVLISATLPHEILEMTNKFMTDPIRILVKRDELTLEGIKQFFVAVEREEWKFDTLCDLYDTLTITQAVIFCNTKRKVDWLTEKMREANFTVSSMHGDMPQKERESIMKEFRSGASRVLISTDVWARGLDVPQVSLIINYDLPNNRELYIHRIGRSGRYGRKGVAINFVKNDDIRILRDIEQYYSTQIDEMPMNVADLI', 'MESAIAEGGASRFSASSGGGGSRGAPQHYPKTAGNSEFLGKTPGQNAQKWIPARSTRRDDNSAANNSANEKERHDAIFRKVRGILNKLTPEKFDKLCLELLNVGVESKLILKGVILLIVDKALEEPKYSSLYAQLCLRLAEDAPNFDGPAAEGQPGQKQSTTFRRLLISKLQDEFENRTRNVDVYDKRENPLLPEEEEQRAIAKIKMLGNIKFIGELGKLDLIHESILHKCIKTLLEKKKRVQLKDMGEDLECLCQIMRTVGPRLDHERAKSLMDQYFARMCSLMLSKELPARIRFLLQDTVELREHHWVPRKAFLDNGPKTINQIRQDAVKDLGVFIPAPMAQGMRSDFFLEGPFMPPRMKMDRDPLGGLADMFGQMPGSGIGTGPGVIQDRFSPTMGRHRSNQLFNGHGGHIMPPTQSQFGEMGGKFMKSQGLSQLYHNQSQGLLSQLQGQSKDMPPRFSKKGQLNADEISLRPAQSFLMNKNQVPKLQPQITMIPPSAQPPRTQTPPLGQTPQLGLKTNPPLIQEKPAKTSKKPPPSKEELLKLTETVVTEYLNSGNANEAVNGVREMRAPKHFLPEMLSKVIILSLDRSDEDKEKASSLISLLKQEGIATSDNFMQAFLNVLDQCPKLEVDIPLVKSYLAQFAARAIISELVSISELAQPLESGTHFPLFLLCLQQLAKLQDREWLTELFQQSKVNMQKMLPEIDQNKDRMLEILEGKGLSFLFPLLKLEKELLKQIKLDPSPQTIYKWIKDNISPKLHVDKGFVNILMTSFLQYISSEVNPPSDETDSSSAPSKEQLEQEKQLLLSFKPVMQKFLHDHVDLQVSALYALQVHCYNSNFPKGMLLRFFVHFYDMEIIEEEAFLAWKEDITQEFPGKGKALFQVNQWLTWLETAEEEESEEEAD', 'MSNGYEDHMAEDCRDDIGRTNLIVNYLPQNMTQEELRSLFSSIGEVESAKLIRDKVAGHSLGYGFVNYVTAKDAERAISTLNGLRLQSKTIKVSYARPSSEVIKDANLYISGLPRTMTQKDVEDMFSRFGRIINSRVLVDQTTGLSRGVAFIRFDKRSEAEEAITSFNGHKPPGSSEPITVKFAANPNQNKNMALLSQLYHSPARRFGGPVHHQAQRFRFSPMGVDHMSGISGVNVPGNASSGWCIFIYNLGQDADEGILWQMFGPFGAVTNVKVIRDFNTNKCKGFGFVTMTNYEEAAMAIASLNGYRLGDKILQVSFKTNKSHK', 'MSNGYEDHMAEDCRDDIGRTNLIVNYLPQNMTQEELRSLFSSIGEVESAKLIRDKVAGHSLGYGFVNYVTAKDAERAISTLNGLRLQSKTIKVSYARPSSEVIKDANLYISGLPRTMTQKDVEDMFSRFGRIINSRVLVDQTTGLSRGVAFIRFDKRSEAEEAITSFNGHKPPGSSEPITVKFAANPNQNKNMALLSQLYHSPARRFGGPVHHQAQRFRFSPMGVDHMSGISGVNVPGNASSGWCIFIYNLGQDADEGILWQMFGPFGAVTNVKVIRDFNTNKCKGFGFVTMTNYEEAAMAIASLNGYRLGDKILQVSFKTNKSHK']\n",
      "[tensor([[0.3840, 0.6624, 0.1103,  ..., 0.0074, 0.0068, 0.0066],\n",
      "        [0.6624, 0.9731, 0.5003,  ..., 0.0062, 0.0061, 0.0062],\n",
      "        [0.1103, 0.5003, 0.6342,  ..., 0.0063, 0.0062, 0.0063],\n",
      "        ...,\n",
      "        [0.0074, 0.0062, 0.0063,  ..., 0.5531, 0.2666, 0.0204],\n",
      "        [0.0068, 0.0061, 0.0062,  ..., 0.2666, 0.8837, 0.7392],\n",
      "        [0.0066, 0.0062, 0.0063,  ..., 0.0204, 0.7392, 0.9719]],\n",
      "       device='cuda:0'), tensor([[0.0630, 0.1813, 0.1318,  ..., 0.0053, 0.0071, 0.0071],\n",
      "        [0.1813, 0.4934, 0.3487,  ..., 0.0065, 0.0071, 0.0071],\n",
      "        [0.1318, 0.3487, 0.1865,  ..., 0.0063, 0.0071, 0.0071],\n",
      "        ...,\n",
      "        [0.0053, 0.0065, 0.0063,  ..., 0.1577, 0.0071, 0.0071],\n",
      "        [0.0071, 0.0071, 0.0071,  ..., 0.0071, 0.0071, 0.0071],\n",
      "        [0.0071, 0.0071, 0.0071,  ..., 0.0071, 0.0071, 0.0071]],\n",
      "       device='cuda:0')]\n"
     ]
    }
   ],
   "execution_count": 51
  },
  {
   "metadata": {
    "ExecuteTime": {
     "end_time": "2025-03-20T10:40:53.564033Z",
     "start_time": "2025-03-20T10:40:53.560587Z"
    }
   },
   "cell_type": "code",
   "source": [
    "import esm\n",
    "import torch\n",
    "import torch.nn as nn\n",
    "from torch import device\n",
    "from typing import Tuple, Any, List"
   ],
   "id": "961a8a93ba0137dc",
   "outputs": [],
   "execution_count": 5
  },
  {
   "metadata": {
    "ExecuteTime": {
     "end_time": "2025-03-20T10:45:31.224375Z",
     "start_time": "2025-03-20T10:45:25.908811Z"
    }
   },
   "cell_type": "code",
   "source": [
    "def load_esm_model()-> Tuple[nn.Module, esm.Alphabet]:\n",
    "    \"\"\"\n",
    "    Load the ESM-1b model.\n",
    "    :return: The ESM-1b model.\n",
    "    \"\"\"\n",
    "    model, alphabet = esm.pretrained.esm2_t33_650M_UR50D()\n",
    "    model.eval()\n",
    "    print(\"Model loaded successfully.\")\n",
    "    return model, alphabet\n",
    "\n",
    "model, alphabet = load_esm_model()"
   ],
   "id": "5572e86725ebf062",
   "outputs": [
    {
     "name": "stdout",
     "output_type": "stream",
     "text": [
      "Model loaded successfully.\n"
     ]
    }
   ],
   "execution_count": 18
  },
  {
   "metadata": {
    "ExecuteTime": {
     "end_time": "2025-03-20T11:12:15.617630Z",
     "start_time": "2025-03-20T11:12:15.611163Z"
    }
   },
   "cell_type": "code",
   "source": [
    "from typing import Tuple, Any, List\n",
    "class TokenESMEmbedding:\n",
    "    \"\"\"\n",
    "    To generate protein embeddings using ESM-1b model.\n",
    "    \"\"\"\n",
    "    def __init__(self, model, alphabet, device: device):\n",
    "        super().__init__()\n",
    "        self.device = device\n",
    "        self.model = model.to(self.device)\n",
    "        self.alphabet = alphabet\n",
    "        self.batch_converter = alphabet.get_batch_converter()\n",
    "\n",
    "    def __call__(self, seqs) -> tuple[Any, list[Any], Any]:\n",
    "        \"\"\"\n",
    "        Generate embeddings for the given sequences. This step is done by a pretrained model.\n",
    "        :param seqs: The sequences for which embeddings are to be generated.\n",
    "        :return: The embeddings for the given sequences.\n",
    "        \"\"\"\n",
    "        data = [(f\"protein{i}\", seq) for i, seq in enumerate(seqs)]\n",
    "        batch_labels, batch_strs, batch_tokens = self.batch_converter(data)\n",
    "        batch_tokens = batch_tokens.to(self.device)  # Move batch tokens to GPU\n",
    "        batch_lens = (batch_tokens != self.alphabet.padding_idx).sum(1)\n",
    "        with torch.no_grad():\n",
    "            results = self.model(batch_tokens, repr_layers=[33], return_contacts=True)\n",
    "        attention_contacts = []\n",
    "        for i, (contact, seq_len) in enumerate(zip(results[\"contacts\"], batch_lens)):\n",
    "            attention_contacts.append(results[\"contacts\"][i][:seq_len, :seq_len])\n",
    "        return results[\"representations\"][33], attention_contacts, batch_lens"
   ],
   "id": "65faaea12486cf47",
   "outputs": [],
   "execution_count": 49
  },
  {
   "metadata": {
    "ExecuteTime": {
     "end_time": "2025-03-20T11:12:18.423909Z",
     "start_time": "2025-03-20T11:12:18.416654Z"
    }
   },
   "cell_type": "code",
   "source": "embedding = TokenESMEmbedding(model, alphabet, device=torch.device('cuda'))\n",
   "id": "f9a463aa8754bee1",
   "outputs": [],
   "execution_count": 50
  },
  {
   "metadata": {
    "ExecuteTime": {
     "end_time": "2025-03-20T10:47:24.403984Z",
     "start_time": "2025-03-20T10:47:24.400348Z"
    }
   },
   "cell_type": "code",
   "source": "print(torch.cuda.is_available())",
   "id": "a657e29ccf237b6c",
   "outputs": [
    {
     "name": "stdout",
     "output_type": "stream",
     "text": [
      "True\n"
     ]
    }
   ],
   "execution_count": 29
  }
 ],
 "metadata": {
  "kernelspec": {
   "display_name": "Python 3",
   "language": "python",
   "name": "python3"
  },
  "language_info": {
   "codemirror_mode": {
    "name": "ipython",
    "version": 2
   },
   "file_extension": ".py",
   "mimetype": "text/x-python",
   "name": "python",
   "nbconvert_exporter": "python",
   "pygments_lexer": "ipython2",
   "version": "2.7.6"
  }
 },
 "nbformat": 4,
 "nbformat_minor": 5
}
