{
 "cells": [
  {
   "cell_type": "code",
   "id": "initial_id",
   "metadata": {
    "collapsed": true,
    "ExecuteTime": {
     "end_time": "2025-03-31T11:22:50.672580Z",
     "start_time": "2025-03-31T11:22:30.645356Z"
    }
   },
   "source": "from deeprpi.utils import RPIDataset",
   "outputs": [],
   "execution_count": 3
  },
  {
   "cell_type": "code",
   "id": "a7af392be0717c28",
   "metadata": {
    "ExecuteTime": {
     "end_time": "2025-03-31T11:29:06.941468Z",
     "start_time": "2025-03-31T11:29:06.866329Z"
    }
   },
   "source": [
    "RPIDataset = RPIDataset(data_path='./data/NPInter5.csv',\n",
    "                            batch_size=32,\n",
    "                            num_workers=4,\n",
    "                            rna_col='RNA_aa_code',\n",
    "                            protein_col='target_aa_code',\n",
    "                            label_col='Y',\n",
    "                            padding=True,\n",
    "                            rna_max_length=1000,\n",
    "                            protein_max_length=1000,\n",
    "                            truncation=False,\n",
    "                            val_ratio=0.1,\n",
    "                            test_ratio=0.1)"
   ],
   "outputs": [],
   "execution_count": 10
  },
  {
   "cell_type": "code",
   "id": "2014c24bc01f07bb",
   "metadata": {
    "ExecuteTime": {
     "end_time": "2025-03-31T11:29:08.502333Z",
     "start_time": "2025-03-31T11:29:08.267660Z"
    }
   },
   "source": [
    "RPIDataset.setup()\n",
    "train_dataloader = RPIDataset.train_dataloader()"
   ],
   "outputs": [
    {
     "name": "stderr",
     "output_type": "stream",
     "text": [
      "Shuffling RNA sequences: 100%|██████████| 1182/1182 [00:00<?, ?it/s]\n",
      "Shuffling protein sequences: 100%|██████████| 1182/1182 [00:00<?, ?it/s]\n",
      "Shuffling labels: 100%|██████████| 1182/1182 [00:00<?, ?it/s]\n",
      "Selecting data: 100%|██████████| 1182/1182 [00:00<?, ?it/s]\n"
     ]
    },
    {
     "name": "stdout",
     "output_type": "stream",
     "text": [
      "Selected 313 samples from 1182 samples\n"
     ]
    },
    {
     "name": "stderr",
     "output_type": "stream",
     "text": [
      "Tokenizing RNA sequences: 100%|██████████| 313/313 [00:00<00:00, 11217.50it/s]\n",
      "Padding RNA sequences: 100%|██████████| 313/313 [00:00<00:00, 56189.74it/s]\n",
      "Tokenizing protein sequences: 100%|██████████| 313/313 [00:00<00:00, 16298.16it/s]\n",
      "Padding protein sequences: 100%|██████████| 313/313 [00:00<?, ?it/s]\n"
     ]
    }
   ],
   "execution_count": 11
  }
 ],
 "metadata": {
  "kernelspec": {
   "display_name": "bbb",
   "language": "python",
   "name": "python3"
  },
  "language_info": {
   "codemirror_mode": {
    "name": "ipython",
    "version": 3
   },
   "file_extension": ".py",
   "mimetype": "text/x-python",
   "name": "python",
   "nbconvert_exporter": "python",
   "pygments_lexer": "ipython3",
   "version": "3.9.18"
  }
 },
 "nbformat": 4,
 "nbformat_minor": 5
}
