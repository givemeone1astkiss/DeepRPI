{
 "cells": [
  {
   "cell_type": "code",
   "id": "initial_id",
   "metadata": {
    "collapsed": true,
    "ExecuteTime": {
     "end_time": "2025-03-22T01:53:55.188182Z",
     "start_time": "2025-03-22T01:53:46.395229Z"
    }
   },
   "source": [
    "from typing import Tuple, Any\n",
    "import esm\n",
    "import torch\n",
    "import torch.nn as nn\n",
    "from torch import device\n",
    "from deeprpi.utils import RPIDataset\n",
    "from deeprpi.config import glob"
   ],
   "outputs": [],
   "execution_count": 1
  },
  {
   "metadata": {
    "ExecuteTime": {
     "end_time": "2025-03-22T02:14:17.940434Z",
     "start_time": "2025-03-22T02:14:17.920753Z"
    }
   },
   "cell_type": "code",
   "source": [
    "def load_esm()-> Tuple[nn.Module, esm.Alphabet]:\n",
    "    \"\"\"\n",
    "    Load the ESM-1b model.\n",
    "    :return: The ESM-1b model.\n",
    "    \"\"\"\n",
    "    model, alphabet = esm.pretrained.esm2_t33_650M_UR50D()\n",
    "    model.eval()\n",
    "    print(\"Model loaded successfully.\")\n",
    "    return model, alphabet\n",
    "\n",
    "class ESMEmbedding:\n",
    "    \"\"\"\n",
    "    To generate protein embeddings using ESM-1b model.\n",
    "    \"\"\"\n",
    "    def __init__(self, model, alphabet, device: device):\n",
    "        super().__init__()\n",
    "        self.device = device\n",
    "        self.model = model.to(self.device)\n",
    "        self.alphabet = alphabet\n",
    "        self.batch_converter = alphabet.get_batch_converter()\n",
    "\n",
    "    def __call__(self, raw_seqs) -> tuple[Any, list[Any], Any]:\n",
    "        \"\"\"\n",
    "        Generate embeddings for the given sequences. This step is done by a pretrained model.\n",
    "        :param raw_seqs: The sequences for which embeddings are to be generated.\n",
    "        :return: The embeddings for the given sequences.\n",
    "        \"\"\"\n",
    "        # Extract start and end token indices\n",
    "        start_token = glob.AMINO_ACIDS['<bos>']\n",
    "        end_token = glob.AMINO_ACIDS['<eos>']\n",
    "        idx_to_token = {v: k for k, v in glob.AMINO_ACIDS.items()}\n",
    "\n",
    "        # Convert sequences to strings and retain only the part between start and end tokens\n",
    "        seqs = []\n",
    "        for seq in raw_seqs:\n",
    "            start_idx = list(seq).index(start_token) + 1\n",
    "            end_idx = list(seq).index(end_token)\n",
    "            seq_str = ''.join([idx_to_token[int(idx)] for idx in seq[start_idx:end_idx]])\n",
    "            seqs.append(seq_str)\n",
    "\n",
    "        # Existing code to generate embeddings and contacts\n",
    "        data = [(f\"protein{i}\", seq) for i, seq in enumerate(seqs)]\n",
    "        batch_labels, batch_strs, batch_tokens = self.batch_converter(data)\n",
    "        batch_tokens = batch_tokens.to(self.device)\n",
    "        batch_lens = (batch_tokens != self.alphabet.padding_idx).sum(1)\n",
    "        with torch.no_grad():\n",
    "            results = self.model(batch_tokens, repr_layers=[33], return_contacts=True)\n",
    "        attention_contacts = []\n",
    "        # Extract the attention contacts for each sequence.\n",
    "        for i, (contact, seq_len) in enumerate(zip(results[\"contacts\"], batch_lens)):\n",
    "            attention_contacts.append(results[\"contacts\"][i][:seq_len, :seq_len])\n",
    "        return results[\"representations\"][33], attention_contacts, batch_lens"
   ],
   "id": "7df3cebe6065a424",
   "outputs": [],
   "execution_count": 34
  },
  {
   "metadata": {
    "ExecuteTime": {
     "end_time": "2025-03-22T01:54:01.203598Z",
     "start_time": "2025-03-22T01:54:01.122248Z"
    }
   },
   "cell_type": "code",
   "source": [
    "RPIDataset = RPIDataset(data_path='./data/NPInter5.csv',\n",
    "                            batch_size=32,\n",
    "                            num_workers=4,\n",
    "                            rna_col='RNA_aa_code',\n",
    "                            protein_col='target_aa_code',\n",
    "                            label_col='Y',\n",
    "                            padding=True,\n",
    "                            rna_max_length=1000,\n",
    "                            protein_max_length=1000,\n",
    "                            truncation=False,\n",
    "                            val_ratio=0.1,\n",
    "                            test_ratio=0.1)"
   ],
   "id": "a7af392be0717c28",
   "outputs": [],
   "execution_count": 3
  },
  {
   "metadata": {
    "ExecuteTime": {
     "end_time": "2025-03-22T01:54:03.296218Z",
     "start_time": "2025-03-22T01:54:03.003116Z"
    }
   },
   "cell_type": "code",
   "source": [
    "RPIDataset.setup()\n",
    "train_dataloader = RPIDataset.train_dataloader()"
   ],
   "id": "2014c24bc01f07bb",
   "outputs": [
    {
     "name": "stderr",
     "output_type": "stream",
     "text": [
      "Shuffling RNA sequences: 100%|██████████| 1182/1182 [00:00<00:00, 112403.47it/s]\n",
      "Shuffling protein sequences: 100%|██████████| 1182/1182 [00:00<?, ?it/s]\n",
      "Shuffling labels: 100%|██████████| 1182/1182 [00:00<?, ?it/s]\n",
      "Selecting data: 100%|██████████| 1182/1182 [00:00<00:00, 219521.22it/s]\n"
     ]
    },
    {
     "name": "stdout",
     "output_type": "stream",
     "text": [
      "Selected 313 samples from 1182 samples\n"
     ]
    },
    {
     "name": "stderr",
     "output_type": "stream",
     "text": [
      "Tokenizing RNA sequences: 100%|██████████| 313/313 [00:00<00:00, 18632.88it/s]\n",
      "Padding RNA sequences: 100%|██████████| 313/313 [00:00<?, ?it/s]\n",
      "Tokenizing protein sequences: 100%|██████████| 313/313 [00:00<00:00, 8711.52it/s]\n",
      "Padding protein sequences: 100%|██████████| 313/313 [00:00<00:00, 36663.70it/s]\n"
     ]
    }
   ],
   "execution_count": 4
  },
  {
   "metadata": {
    "ExecuteTime": {
     "end_time": "2025-03-22T01:54:12.135464Z",
     "start_time": "2025-03-22T01:54:08.156415Z"
    }
   },
   "cell_type": "code",
   "source": [
    "for i in train_dataloader:\n",
    "    print(len(i))\n",
    "    print('='*50)\n",
    "    print(i[0])\n",
    "    print('='*50)\n",
    "    print(i[1])\n",
    "    break"
   ],
   "id": "2998e0d6150e5c1d",
   "outputs": [
    {
     "name": "stdout",
     "output_type": "stream",
     "text": [
      "5\n",
      "==================================================\n",
      "tensor([[0, 4, 4,  ..., 1, 1, 1],\n",
      "        [0, 5, 5,  ..., 1, 1, 1],\n",
      "        [0, 5, 7,  ..., 1, 1, 1],\n",
      "        ...,\n",
      "        [0, 4, 6,  ..., 1, 1, 1],\n",
      "        [0, 7, 7,  ..., 1, 1, 1],\n",
      "        [0, 4, 4,  ..., 1, 1, 1]])\n",
      "==================================================\n",
      "tensor([[1, 1, 1,  ..., 1, 1, 1],\n",
      "        [1, 1, 1,  ..., 1, 1, 1],\n",
      "        [1, 1, 1,  ..., 1, 1, 1],\n",
      "        ...,\n",
      "        [1, 1, 1,  ..., 1, 1, 1],\n",
      "        [1, 1, 1,  ..., 1, 1, 1],\n",
      "        [1, 1, 1,  ..., 1, 1, 1]])\n"
     ]
    }
   ],
   "execution_count": 5
  },
  {
   "metadata": {
    "ExecuteTime": {
     "end_time": "2025-03-22T02:06:48.212649Z",
     "start_time": "2025-03-22T02:06:31.463329Z"
    }
   },
   "cell_type": "code",
   "source": "model, alphabet = load_esm()",
   "id": "f9a463aa8754bee1",
   "outputs": [
    {
     "name": "stdout",
     "output_type": "stream",
     "text": [
      "Model loaded successfully.\n"
     ]
    }
   ],
   "execution_count": 23
  },
  {
   "metadata": {
    "ExecuteTime": {
     "end_time": "2025-03-22T02:14:24.634517Z",
     "start_time": "2025-03-22T02:14:24.615368Z"
    }
   },
   "cell_type": "code",
   "source": "embedding = ESMEmbedding(model, alphabet, device=torch.device('cpu'))",
   "id": "2c4ba65b88fbf4a9",
   "outputs": [],
   "execution_count": 35
  },
  {
   "metadata": {
    "ExecuteTime": {
     "end_time": "2025-03-22T02:14:35.577137Z",
     "start_time": "2025-03-22T02:14:27.631450Z"
    }
   },
   "cell_type": "code",
   "source": [
    "for i in train_dataloader:\n",
    "    # print(RPIDataset.protein_tokenizer.decode(i[2]))\n",
    "    print(embedding(i[2][:2]))\n",
    "    break"
   ],
   "id": "628732b91dc90a10",
   "outputs": [
    {
     "name": "stdout",
     "output_type": "stream",
     "text": [
      "(tensor([[[ 0.0455,  0.0185,  0.1103,  ..., -0.2935,  0.1578,  0.0456],\n",
      "         [ 0.1249, -0.0747, -0.0016,  ..., -0.0209,  0.0364,  0.0414],\n",
      "         [ 0.0895,  0.1725,  0.1456,  ...,  0.1058,  0.0619, -0.0703],\n",
      "         ...,\n",
      "         [ 0.1062, -0.0367, -0.0535,  ..., -0.1001,  0.1504, -0.4176],\n",
      "         [-0.0432, -0.0424,  0.0300,  ..., -0.4647,  0.0893, -0.0100],\n",
      "         [-0.0372, -0.0478,  0.0847,  ..., -0.4383,  0.3191,  0.0205]],\n",
      "\n",
      "        [[ 0.0770, -0.0544,  0.0573,  ..., -0.2624,  0.1406, -0.0483],\n",
      "         [-0.1049, -0.0689, -0.1309,  ..., -0.0552, -0.1758, -0.0479],\n",
      "         [-0.1652,  0.0649,  0.0227,  ...,  0.1014, -0.0166, -0.0879],\n",
      "         ...,\n",
      "         [ 0.0098, -0.2441,  0.0756,  ..., -0.1425,  0.1530, -0.1203],\n",
      "         [ 0.0074, -0.2351,  0.0823,  ..., -0.1438,  0.1477, -0.1171],\n",
      "         [-0.0096, -0.2292,  0.0815,  ..., -0.1409,  0.1358, -0.1224]]]), [tensor([[0.3840, 0.6624, 0.1103,  ..., 0.0074, 0.0068, 0.0066],\n",
      "        [0.6624, 0.9731, 0.5003,  ..., 0.0062, 0.0061, 0.0062],\n",
      "        [0.1103, 0.5003, 0.6342,  ..., 0.0063, 0.0062, 0.0063],\n",
      "        ...,\n",
      "        [0.0074, 0.0062, 0.0063,  ..., 0.5531, 0.2666, 0.0204],\n",
      "        [0.0068, 0.0061, 0.0062,  ..., 0.2666, 0.8837, 0.7392],\n",
      "        [0.0066, 0.0062, 0.0063,  ..., 0.0204, 0.7392, 0.9719]]), tensor([[0.0630, 0.1813, 0.1318,  ..., 0.0053, 0.0071, 0.0071],\n",
      "        [0.1813, 0.4934, 0.3487,  ..., 0.0065, 0.0071, 0.0071],\n",
      "        [0.1318, 0.3487, 0.1865,  ..., 0.0063, 0.0071, 0.0071],\n",
      "        ...,\n",
      "        [0.0053, 0.0065, 0.0063,  ..., 0.1577, 0.0071, 0.0071],\n",
      "        [0.0071, 0.0071, 0.0071,  ..., 0.0071, 0.0071, 0.0071],\n",
      "        [0.0071, 0.0071, 0.0071,  ..., 0.0071, 0.0071, 0.0071]])], tensor([328, 249]))\n"
     ]
    }
   ],
   "execution_count": 36
  }
 ],
 "metadata": {
  "kernelspec": {
   "display_name": "Python 3",
   "language": "python",
   "name": "python3"
  },
  "language_info": {
   "codemirror_mode": {
    "name": "ipython",
    "version": 2
   },
   "file_extension": ".py",
   "mimetype": "text/x-python",
   "name": "python",
   "nbconvert_exporter": "python",
   "pygments_lexer": "ipython2",
   "version": "2.7.6"
  }
 },
 "nbformat": 4,
 "nbformat_minor": 5
}
